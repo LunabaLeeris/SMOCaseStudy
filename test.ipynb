{
 "cells": [
  {
   "cell_type": "code",
   "execution_count": 1,
   "metadata": {},
   "outputs": [
    {
     "name": "stdout",
     "output_type": "stream",
     "text": [
      "Hell yeah\n",
      "Hell yeah\n",
      "Hell yeah\n",
      "Hell yeah\n",
      "Hell yeah\n",
      "Hell yeah\n",
      "Hell yeah\n",
      "Hell yeah\n",
      "Hell yeah\n",
      "Hell yeah\n",
      "30\n"
     ]
    }
   ],
   "source": [
    "from concurrent.futures import ThreadPoolExecutor, as_completed\n",
    "import time\n",
    "\n",
    "# Using a list to hold the value, as lists are mutable\n",
    "val = [0]\n",
    "\n",
    "def adjust_val(val):\n",
    "    val[0] += 3\n",
    "    print(\"Hell yeah\")\n",
    "    time.sleep(3)\n",
    "\n",
    "with ThreadPoolExecutor() as executor:\n",
    "    futures = [executor.submit(adjust_val, val) for i in range(10)]\n",
    "\n",
    "    # Wait for all futures to complete\n",
    "    for future in as_completed(futures):\n",
    "        future.result()\n",
    "\n",
    "print(val[0])"
   ]
  }
 ],
 "metadata": {
  "kernelspec": {
   "display_name": "Python 3",
   "language": "python",
   "name": "python3"
  },
  "language_info": {
   "codemirror_mode": {
    "name": "ipython",
    "version": 3
   },
   "file_extension": ".py",
   "mimetype": "text/x-python",
   "name": "python",
   "nbconvert_exporter": "python",
   "pygments_lexer": "ipython3",
   "version": "3.12.4"
  }
 },
 "nbformat": 4,
 "nbformat_minor": 2
}
